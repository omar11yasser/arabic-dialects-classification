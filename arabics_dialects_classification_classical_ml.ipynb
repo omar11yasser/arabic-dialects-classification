{
 "cells": [
  {
   "attachments": {},
   "cell_type": "markdown",
   "metadata": {},
   "source": [
    "# Arabic dialects classification classical Machine Learning"
   ]
  },
  {
   "attachments": {},
   "cell_type": "markdown",
   "metadata": {},
   "source": [
    "## Import and preprocess data"
   ]
  },
  {
   "cell_type": "code",
   "execution_count": 1,
   "metadata": {},
   "outputs": [
    {
     "name": "stdout",
     "output_type": "stream",
     "text": [
      "Preprocessing started at: 2023-06-30 16:14:33.719707\n",
      "Dialects merged into geographic areas.\n",
      "Undersampling finshed, new number of samples = 200000.\n",
      "Unwanted charaters removed.\n",
      "Text normalization applied.\n",
      "Names removed from tweets!\n",
      "Stop words removed.\n",
      "Classes labels encoded.\n",
      "Data was split with was split with test_size = 0.1.\n",
      "Preprocessing took: 0:00:07.246214.\n"
     ]
    }
   ],
   "source": [
    "from preprocessing.preprocessing_pipeline import preprocessing_pipeline\n",
    "\n",
    "# I opted to use 5000 max_features because of the available hardware you can increase it and see the results.\n",
    "x_train, x_test, y_train, y_test = preprocessing_pipeline('inputs/dialcets_data.csv', 0.1, 500)"
   ]
  },
  {
   "attachments": {},
   "cell_type": "markdown",
   "metadata": {},
   "source": [
    "## Random forrest classifier"
   ]
  },
  {
   "cell_type": "code",
   "execution_count": 2,
   "metadata": {},
   "outputs": [],
   "source": [
    "from sklearn.ensemble import RandomForestClassifier\n",
    "from datetime import datetime"
   ]
  },
  {
   "cell_type": "code",
   "execution_count": 3,
   "metadata": {},
   "outputs": [
    {
     "name": "stdout",
     "output_type": "stream",
     "text": [
      "Random forrest start time: 2023-06-30 16:14:40.992369\n",
      "Training time: 0:03:33.927417\n"
     ]
    }
   ],
   "source": [
    "                                                                      \n",
    "# Initialize a Random Forest classifier with 200 trees\n",
    "forest = RandomForestClassifier(n_estimators = 200,\n",
    "                                criterion = 'entropy',\n",
    "                                max_depth = 70,\n",
    "                                min_samples_split=5)\n",
    "# Fitting the random forest using the training set\n",
    "start = datetime.now()\n",
    "print('Random forrest start time: {}'.format(start))\n",
    "forest = forest.fit(x_train, y_train)\n",
    "print('Training time: {}'.format(datetime.now() - start))"
   ]
  },
  {
   "cell_type": "code",
   "execution_count": 4,
   "metadata": {},
   "outputs": [],
   "source": [
    "from sklearn.metrics import accuracy_score"
   ]
  },
  {
   "cell_type": "code",
   "execution_count": 5,
   "metadata": {},
   "outputs": [
    {
     "data": {
      "text/plain": [
       "0.57005"
      ]
     },
     "execution_count": 5,
     "metadata": {},
     "output_type": "execute_result"
    }
   ],
   "source": [
    "forest.score(x_train, y_train)"
   ]
  },
  {
   "cell_type": "code",
   "execution_count": 6,
   "metadata": {},
   "outputs": [
    {
     "data": {
      "text/plain": [
       "0.53275"
      ]
     },
     "execution_count": 6,
     "metadata": {},
     "output_type": "execute_result"
    }
   ],
   "source": [
    "forest.score(x_test, y_test)"
   ]
  },
  {
   "attachments": {},
   "cell_type": "markdown",
   "metadata": {},
   "source": [
    "## XGBoost classifier"
   ]
  },
  {
   "cell_type": "code",
   "execution_count": 7,
   "metadata": {},
   "outputs": [
    {
     "name": "stdout",
     "output_type": "stream",
     "text": [
      "XGboost start time: 2023-06-30 16:18:25.787115\n"
     ]
    }
   ],
   "source": [
    "from sklearn.ensemble import GradientBoostingClassifier\n",
    "\n",
    "start = datetime.now()\n",
    "print('XGboost start time: {}'.format(start))\n",
    "clf = GradientBoostingClassifier(n_estimators = 200,\n",
    "                                learning_rate = 1e-3,\n",
    "                                max_depth = 40,\n",
    "                                random_state = 0)\n",
    "# Fit XGboost classifier\n",
    "clf.fit(x_train, y_train)\n",
    "print('XGboost training duration: {}'.format(datetime.now() - start))"
   ]
  },
  {
   "cell_type": "code",
   "execution_count": null,
   "metadata": {},
   "outputs": [],
   "source": [
    "print('Accuracy on the training set: ', clf.score(x_train, y_train))"
   ]
  },
  {
   "cell_type": "code",
   "execution_count": null,
   "metadata": {},
   "outputs": [],
   "source": [
    "print('Accuracy on the testing set: ',clf.score(x_test, y_test))"
   ]
  }
 ],
 "metadata": {
  "kernelspec": {
   "display_name": "arabic-preprocessing",
   "language": "python",
   "name": "python3"
  },
  "language_info": {
   "codemirror_mode": {
    "name": "ipython",
    "version": 3
   },
   "file_extension": ".py",
   "mimetype": "text/x-python",
   "name": "python",
   "nbconvert_exporter": "python",
   "pygments_lexer": "ipython3",
   "version": "3.9.16"
  },
  "orig_nbformat": 4
 },
 "nbformat": 4,
 "nbformat_minor": 2
}
