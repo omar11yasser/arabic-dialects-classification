{
 "cells": [
  {
   "cell_type": "markdown",
   "id": "a615abf1",
   "metadata": {},
   "source": [
    "# Data pre-proceesing"
   ]
  },
  {
   "cell_type": "markdown",
   "id": "2d848caf",
   "metadata": {},
   "source": [
    "### Introduction\n",
    "The data preprocessing is one of the most crucial steps in the machine learning process, here I will explain my preprocessing steps "
   ]
  },
  {
   "cell_type": "markdown",
   "id": "9a21dd57",
   "metadata": {},
   "source": [
    "## Data import "
   ]
  },
  {
   "cell_type": "code",
   "execution_count": 1,
   "id": "289a14ae",
   "metadata": {},
   "outputs": [],
   "source": [
    "# import pandas\n",
    "import pandas as pd\n",
    "import numpy as np"
   ]
  },
  {
   "cell_type": "code",
   "execution_count": 2,
   "id": "fea4b62c",
   "metadata": {
    "scrolled": true
   },
   "outputs": [
    {
     "data": {
      "text/html": [
       "<div>\n",
       "<style scoped>\n",
       "    .dataframe tbody tr th:only-of-type {\n",
       "        vertical-align: middle;\n",
       "    }\n",
       "\n",
       "    .dataframe tbody tr th {\n",
       "        vertical-align: top;\n",
       "    }\n",
       "\n",
       "    .dataframe thead th {\n",
       "        text-align: right;\n",
       "    }\n",
       "</style>\n",
       "<table border=\"1\" class=\"dataframe\">\n",
       "  <thead>\n",
       "    <tr style=\"text-align: right;\">\n",
       "      <th></th>\n",
       "      <th>id</th>\n",
       "      <th>tweet</th>\n",
       "      <th>dialect</th>\n",
       "    </tr>\n",
       "  </thead>\n",
       "  <tbody>\n",
       "    <tr>\n",
       "      <th>0</th>\n",
       "      <td>1.175360e+18</td>\n",
       "      <td>@Nw8ieJUwaCAAreT لكن بالنهاية .. ينتفض .. يغير .</td>\n",
       "      <td>IQ</td>\n",
       "    </tr>\n",
       "    <tr>\n",
       "      <th>1</th>\n",
       "      <td>1.175420e+18</td>\n",
       "      <td>@7zNqXP0yrODdRjK يعني هذا محسوب على البشر .. ح...</td>\n",
       "      <td>IQ</td>\n",
       "    </tr>\n",
       "    <tr>\n",
       "      <th>2</th>\n",
       "      <td>1.175450e+18</td>\n",
       "      <td>@KanaanRema مبين من كلامه خليجي</td>\n",
       "      <td>IQ</td>\n",
       "    </tr>\n",
       "    <tr>\n",
       "      <th>3</th>\n",
       "      <td>1.175470e+18</td>\n",
       "      <td>@HAIDER76128900 يسلملي مرورك وروحك الحلوه💐</td>\n",
       "      <td>IQ</td>\n",
       "    </tr>\n",
       "    <tr>\n",
       "      <th>4</th>\n",
       "      <td>1.175500e+18</td>\n",
       "      <td>@hmo2406 وين هل الغيبه  اخ محمد 🌸🌺</td>\n",
       "      <td>IQ</td>\n",
       "    </tr>\n",
       "  </tbody>\n",
       "</table>\n",
       "</div>"
      ],
      "text/plain": [
       "             id                                              tweet dialect\n",
       "0  1.175360e+18   @Nw8ieJUwaCAAreT لكن بالنهاية .. ينتفض .. يغير .      IQ\n",
       "1  1.175420e+18  @7zNqXP0yrODdRjK يعني هذا محسوب على البشر .. ح...      IQ\n",
       "2  1.175450e+18                    @KanaanRema مبين من كلامه خليجي      IQ\n",
       "3  1.175470e+18         @HAIDER76128900 يسلملي مرورك وروحك الحلوه💐      IQ\n",
       "4  1.175500e+18                 @hmo2406 وين هل الغيبه  اخ محمد 🌸🌺      IQ"
      ]
     },
     "execution_count": 2,
     "metadata": {},
     "output_type": "execute_result"
    }
   ],
   "source": [
    "dialects_data = pd.read_csv('inputs/dialcets_data.csv')\n",
    "dialects_data.head()"
   ]
  },
  {
   "cell_type": "markdown",
   "id": "afe3914d",
   "metadata": {},
   "source": [
    "### Dataset balance visualization"
   ]
  },
  {
   "cell_type": "code",
   "execution_count": 3,
   "id": "67b79cec",
   "metadata": {
    "scrolled": true
   },
   "outputs": [
    {
     "data": {
      "image/png": "[encoded data removed]",
      "text/plain": [
       "<Figure size 432x288 with 1 Axes>"
      ]
     },
     "metadata": {
      "needs_background": "light"
     },
     "output_type": "display_data"
    }
   ],
   "source": [
    "import matplotlib.pyplot as plt\n",
    "classes_num = dialects_data['dialect'].value_counts().plot(kind = 'bar',\n",
    "                                                          title = 'Dataset Balance',\n",
    "                                                          xlabel = 'Dialect',\n",
    "                                                          ylabel = 'Number of samples')"
   ]
  },
  {
   "cell_type": "code",
   "execution_count": 4,
   "id": "9e5632cd",
   "metadata": {},
   "outputs": [],
   "source": [
    "# Merge gulf dialcets\n",
    "dialects_data['dialect'].replace(['SA', 'AE', 'QA', 'BH', 'KW', 'OM', 'IQ'], 'GUL', inplace=True)\n",
    "# Merge noth african countries (Except for egyptyian)\n",
    "dialects_data['dialect'].replace(['LIB', 'DZ', 'MA', 'TN', 'LY'], 'NA', inplace=True)\n",
    "# Merge Levantine countries\n",
    "dialects_data['dialect'].replace(['SY', 'PL', 'JO', 'LB'], 'LV', inplace=True)"
   ]
  },
  {
   "cell_type": "code",
   "execution_count": 5,
   "id": "c3f32258",
   "metadata": {},
   "outputs": [
    {
     "data": {
      "image/png": "[encoded data removed]",
      "text/plain": [
       "<Figure size 432x288 with 1 Axes>"
      ]
     },
     "metadata": {
      "needs_background": "light"
     },
     "output_type": "display_data"
    }
   ],
   "source": [
    "classes_num = dialects_data['dialect'].value_counts().plot(kind = 'bar',\n",
    "                                                          title = 'Dataset Balance',\n",
    "                                                          xlabel = 'Dialect',\n",
    "                                                          ylabel = 'Number of samples')"
   ]
  },
  {
   "cell_type": "markdown",
   "id": "1015d453",
   "metadata": {},
   "source": [
    "## Data pre-processing \n",
    "### Drop uncessary features \n",
    "Remove IDs column from the data because it is not useful going forward."
   ]
  },
  {
   "cell_type": "code",
   "execution_count": 6,
   "id": "813f8c25",
   "metadata": {},
   "outputs": [
    {
     "data": {
      "text/html": [
       "<div>\n",
       "<style scoped>\n",
       "    .dataframe tbody tr th:only-of-type {\n",
       "        vertical-align: middle;\n",
       "    }\n",
       "\n",
       "    .dataframe tbody tr th {\n",
       "        vertical-align: top;\n",
       "    }\n",
       "\n",
       "    .dataframe thead th {\n",
       "        text-align: right;\n",
       "    }\n",
       "</style>\n",
       "<table border=\"1\" class=\"dataframe\">\n",
       "  <thead>\n",
       "    <tr style=\"text-align: right;\">\n",
       "      <th></th>\n",
       "      <th>tweet</th>\n",
       "      <th>dialect</th>\n",
       "    </tr>\n",
       "  </thead>\n",
       "  <tbody>\n",
       "    <tr>\n",
       "      <th>0</th>\n",
       "      <td>@Nw8ieJUwaCAAreT لكن بالنهاية .. ينتفض .. يغير .</td>\n",
       "      <td>GUL</td>\n",
       "    </tr>\n",
       "  </tbody>\n",
       "</table>\n",
       "</div>"
      ],
      "text/plain": [
       "                                              tweet dialect\n",
       "0  @Nw8ieJUwaCAAreT لكن بالنهاية .. ينتفض .. يغير .     GUL"
      ]
     },
     "execution_count": 6,
     "metadata": {},
     "output_type": "execute_result"
    }
   ],
   "source": [
    "dialects_data.drop('id', axis = 1, inplace = True)\n",
    "dialects_data.head(1)"
   ]
  },
  {
   "cell_type": "markdown",
   "id": "8fc2a1c7",
   "metadata": {},
   "source": [
    "### Merge similar dilacets"
   ]
  },
  {
   "cell_type": "markdown",
   "id": "b77be25a",
   "metadata": {},
   "source": [
    "### Undersampling "
   ]
  },
  {
   "cell_type": "code",
   "execution_count": 7,
   "id": "38d58123",
   "metadata": {},
   "outputs": [],
   "source": [
    "import imblearn\n",
    "from imblearn.under_sampling import RandomUnderSampler\n",
    "\n",
    "undersample = RandomUnderSampler(sampling_strategy={'GUL': 50000, 'LV': 50000, 'EG': 50000, 'NA': 50000})\n",
    "X_under, y_under = undersample.fit_resample(dialects_data['tweet'].values.reshape(-1, 1), dialects_data['dialect'])"
   ]
  },
  {
   "cell_type": "code",
   "execution_count": 8,
   "id": "bd379fd1",
   "metadata": {},
   "outputs": [],
   "source": [
    "X_under = pd.Series(X_under.ravel())"
   ]
  },
  {
   "cell_type": "code",
   "execution_count": 9,
   "id": "3cf6c4b6",
   "metadata": {},
   "outputs": [
    {
     "data": {
      "text/html": [
       "<div>\n",
       "<style scoped>\n",
       "    .dataframe tbody tr th:only-of-type {\n",
       "        vertical-align: middle;\n",
       "    }\n",
       "\n",
       "    .dataframe tbody tr th {\n",
       "        vertical-align: top;\n",
       "    }\n",
       "\n",
       "    .dataframe thead th {\n",
       "        text-align: right;\n",
       "    }\n",
       "</style>\n",
       "<table border=\"1\" class=\"dataframe\">\n",
       "  <thead>\n",
       "    <tr style=\"text-align: right;\">\n",
       "      <th></th>\n",
       "      <th>tweet</th>\n",
       "      <th>dialect</th>\n",
       "    </tr>\n",
       "  </thead>\n",
       "  <tbody>\n",
       "    <tr>\n",
       "      <th>0</th>\n",
       "      <td>انهارده درجه الحراره 40 و الجو موت\\nبعد كدا ال...</td>\n",
       "      <td>EG</td>\n",
       "    </tr>\n",
       "    <tr>\n",
       "      <th>1</th>\n",
       "      <td>@9Dr_RU_ALEX_998 هي متعودة علي النجاسة</td>\n",
       "      <td>EG</td>\n",
       "    </tr>\n",
       "    <tr>\n",
       "      <th>2</th>\n",
       "      <td>#صاحب_تويتر_وفولورز_الاتنين والتلات كمان</td>\n",
       "      <td>EG</td>\n",
       "    </tr>\n",
       "    <tr>\n",
       "      <th>3</th>\n",
       "      <td>فالواقع انا ما ارتبطش قبل كده فالطبيعي عندي ان...</td>\n",
       "      <td>EG</td>\n",
       "    </tr>\n",
       "    <tr>\n",
       "      <th>4</th>\n",
       "      <td>@noha_shaaban ماقدرش أنكِر ان فيه بنات بتسوق ك...</td>\n",
       "      <td>EG</td>\n",
       "    </tr>\n",
       "  </tbody>\n",
       "</table>\n",
       "</div>"
      ],
      "text/plain": [
       "                                               tweet dialect\n",
       "0  انهارده درجه الحراره 40 و الجو موت\\nبعد كدا ال...      EG\n",
       "1             @9Dr_RU_ALEX_998 هي متعودة علي النجاسة      EG\n",
       "2           #صاحب_تويتر_وفولورز_الاتنين والتلات كمان      EG\n",
       "3  فالواقع انا ما ارتبطش قبل كده فالطبيعي عندي ان...      EG\n",
       "4  @noha_shaaban ماقدرش أنكِر ان فيه بنات بتسوق ك...      EG"
      ]
     },
     "metadata": {},
     "output_type": "display_data"
    }
   ],
   "source": [
    "#Create new dataframe to house under sampled data\n",
    "under_sampled_data = pd.concat([X_under, y_under], axis = 1)\n",
    "under_sampled_data.rename(columns={0: 'tweet'}, inplace = True)\n",
    "display(under_sampled_data.head())"
   ]
  },
  {
   "cell_type": "code",
   "execution_count": 10,
   "id": "5d09a464",
   "metadata": {},
   "outputs": [
    {
     "data": {
      "image/png": "[encoded data removed]",
      "text/plain": [
       "<Figure size 432x288 with 1 Axes>"
      ]
     },
     "metadata": {
      "needs_background": "light"
     },
     "output_type": "display_data"
    }
   ],
   "source": [
    "classes_num = under_sampled_data['dialect'].value_counts().plot(kind = 'bar',\n",
    "                                                          title = 'Dataset Balance',\n",
    "                                                          xlabel = 'Dialect',\n",
    "                                                          ylabel = 'Number of samples')"
   ]
  },
  {
   "cell_type": "markdown",
   "id": "606c964e",
   "metadata": {},
   "source": [
    "### Drop minority classes"
   ]
  },
  {
   "cell_type": "code",
   "execution_count": 11,
   "id": "8dc6711e",
   "metadata": {},
   "outputs": [],
   "source": [
    "under_sampled_data.drop(under_sampled_data.loc[under_sampled_data['dialect']=='YE'].index, inplace=True)\n",
    "#under_sampled_data.drop(under_sampled_data.loc[under_sampled_data['dialect']=='IQ'].index, inplace=True)\n",
    "under_sampled_data.drop(under_sampled_data.loc[under_sampled_data['dialect']=='SD'].index, inplace=True)"
   ]
  },
  {
   "cell_type": "code",
   "execution_count": 12,
   "id": "af7cae9a",
   "metadata": {},
   "outputs": [
    {
     "data": {
      "image/png": "[encoded data removed]",
      "text/plain": [
       "<Figure size 432x288 with 1 Axes>"
      ]
     },
     "metadata": {
      "needs_background": "light"
     },
     "output_type": "display_data"
    }
   ],
   "source": [
    "classes_num = under_sampled_data['dialect'].value_counts().plot(kind = 'bar',\n",
    "                                                          title = 'Dataset Balance',\n",
    "                                                          xlabel = 'Dialect',\n",
    "                                                          ylabel = 'Number of samples')"
   ]
  },
  {
   "cell_type": "markdown",
   "id": "899f6753",
   "metadata": {},
   "source": [
    "### Remove unwanted characters"
   ]
  },
  {
   "cell_type": "code",
   "execution_count": 13,
   "id": "dc93c36e",
   "metadata": {},
   "outputs": [],
   "source": [
    "import re\n",
    "def preprocess_text(tweet):\n",
    "    #tweet = re.sub('/#\\w+\\s*[A-Za-z]+\\b','',tweet) # Remove hashtags\n",
    "    tweet = re.sub('@[^\\s]+','',tweet) # Remove user name and mentions\n",
    "    tweet = re.sub('http[^\\s]+','',tweet) # Remove Hyper links\n",
    "    tweet = re.sub('[^\\w\\s#@/:%.,_-]','',tweet) # Remove emojis\n",
    "    tweet = re.sub('\\d+','',tweet) # Remove numbers\n",
    "    tweet = re.sub('[^\\w\\s]','',tweet) # Remove punctuation\n",
    "    tweet = re.sub(r'[a-zA-Z]','',tweet, flags=re.I) # Remove english words and add flag to remove dotlees i\n",
    "    tweet = re.sub(r'[\\_-]', '', tweet) # Remove underscores and dashes\n",
    "    tweet = re.sub(r'\\n', '', tweet)\n",
    "    tweet = tweet.rstrip()\n",
    "    return tweet"
   ]
  },
  {
   "cell_type": "code",
   "execution_count": 14,
   "id": "4f975167",
   "metadata": {},
   "outputs": [],
   "source": [
    "under_sampled_data['tweet'] = under_sampled_data['tweet'].apply(preprocess_text)"
   ]
  },
  {
   "cell_type": "code",
   "execution_count": 15,
   "id": "ce5820b6",
   "metadata": {},
   "outputs": [
    {
     "data": {
      "text/html": [
       "<div>\n",
       "<style scoped>\n",
       "    .dataframe tbody tr th:only-of-type {\n",
       "        vertical-align: middle;\n",
       "    }\n",
       "\n",
       "    .dataframe tbody tr th {\n",
       "        vertical-align: top;\n",
       "    }\n",
       "\n",
       "    .dataframe thead th {\n",
       "        text-align: right;\n",
       "    }\n",
       "</style>\n",
       "<table border=\"1\" class=\"dataframe\">\n",
       "  <thead>\n",
       "    <tr style=\"text-align: right;\">\n",
       "      <th></th>\n",
       "      <th>tweet</th>\n",
       "      <th>dialect</th>\n",
       "    </tr>\n",
       "  </thead>\n",
       "  <tbody>\n",
       "    <tr>\n",
       "      <th>0</th>\n",
       "      <td>انهارده درجه الحراره  و الجو موتبعد كدا اللي ه...</td>\n",
       "      <td>EG</td>\n",
       "    </tr>\n",
       "    <tr>\n",
       "      <th>1</th>\n",
       "      <td>هي متعودة علي النجاسة</td>\n",
       "      <td>EG</td>\n",
       "    </tr>\n",
       "    <tr>\n",
       "      <th>2</th>\n",
       "      <td>صاحبتويتروفولورزالاتنين والتلات كمان</td>\n",
       "      <td>EG</td>\n",
       "    </tr>\n",
       "    <tr>\n",
       "      <th>3</th>\n",
       "      <td>فالواقع انا ما ارتبطش قبل كده فالطبيعي عندي ان...</td>\n",
       "      <td>EG</td>\n",
       "    </tr>\n",
       "    <tr>\n",
       "      <th>4</th>\n",
       "      <td>ماقدرش أنكر ان فيه بنات بتسوق كويس ويمكن أحسن...</td>\n",
       "      <td>EG</td>\n",
       "    </tr>\n",
       "  </tbody>\n",
       "</table>\n",
       "</div>"
      ],
      "text/plain": [
       "                                               tweet dialect\n",
       "0  انهارده درجه الحراره  و الجو موتبعد كدا اللي ه...      EG\n",
       "1                              هي متعودة علي النجاسة      EG\n",
       "2               صاحبتويتروفولورزالاتنين والتلات كمان      EG\n",
       "3  فالواقع انا ما ارتبطش قبل كده فالطبيعي عندي ان...      EG\n",
       "4   ماقدرش أنكر ان فيه بنات بتسوق كويس ويمكن أحسن...      EG"
      ]
     },
     "execution_count": 15,
     "metadata": {},
     "output_type": "execute_result"
    }
   ],
   "source": [
    "under_sampled_data.head()"
   ]
  },
  {
   "cell_type": "markdown",
   "id": "7b83aadd",
   "metadata": {},
   "source": [
    "### Normalize"
   ]
  },
  {
   "cell_type": "code",
   "execution_count": 16,
   "id": "7e2b31cd",
   "metadata": {},
   "outputs": [],
   "source": [
    "#library for text normalization\n",
    "import tashaphyne.normalize as normalize\n",
    "def normalizeArabic(tweet):\n",
    "    return normalize.normalize_searchtext(tweet)"
   ]
  },
  {
   "cell_type": "code",
   "execution_count": 17,
   "id": "71258080",
   "metadata": {},
   "outputs": [
    {
     "name": "stdout",
     "output_type": "stream",
     "text": [
      "0    انهارده درجه الحراره  و الجو موتبعد كدا اللي ه...\n",
      "1                                هي متعوده علي النجاسه\n",
      "2                 صاحبتويتروفولورزالاتنين والتلات كمان\n",
      "3    فالواقع انا ما ارتبطش قبل كده فالطبيعي عندي ان...\n",
      "4     ماقدرش انكر ان فيه بنات بتسوق كويس ويمكن احسن...\n",
      "5    يالي بتسال عن الحياه خدها كدا زي ماهيااافيها ا...\n",
      "Name: tweet, dtype: object\n"
     ]
    }
   ],
   "source": [
    "under_sampled_data['tweet'] = under_sampled_data['tweet'].apply(normalizeArabic)\n",
    "print(under_sampled_data['tweet'].loc[0:5])"
   ]
  },
  {
   "cell_type": "markdown",
   "id": "9f94fbe7",
   "metadata": {},
   "source": [
    "### Remove names from tweets using names scraped by ZakAhmed\n",
    "Link to ZakAhmed's GitHub repository: https://github.com/zakahmad/ArabicNameGenderFinder"
   ]
  },
  {
   "cell_type": "code",
   "execution_count": 18,
   "id": "849cf24b",
   "metadata": {},
   "outputs": [],
   "source": [
    "male_names = pd.read_csv('inputs/males_ar.csv')\n",
    "female_names = pd.read_csv('inputs/females_ar.csv')\n",
    "# Concat noth gender names\n",
    "arabic_names = pd.concat([male_names, female_names])\n",
    "# drop gender column\n",
    "arabic_names.drop('Gender', axis = 1, inplace = True)"
   ]
  },
  {
   "cell_type": "code",
   "execution_count": 19,
   "id": "205663e7",
   "metadata": {},
   "outputs": [
    {
     "data": {
      "text/plain": [
       "array(['ادم', 'اسر', 'ابد', ..., 'يقظانه', 'يمامه', 'يمني'], dtype=object)"
      ]
     },
     "execution_count": 19,
     "metadata": {},
     "output_type": "execute_result"
    }
   ],
   "source": [
    "# Normalize names\n",
    "arabic_names['Name'] = arabic_names['Name'].apply(normalizeArabic)\n",
    "# Put names in a list\n",
    "names_list = arabic_names.values.ravel()\n",
    "names_list"
   ]
  },
  {
   "cell_type": "code",
   "execution_count": 20,
   "id": "fcf52527",
   "metadata": {},
   "outputs": [],
   "source": [
    "# Remove names from tweets\n",
    "under_sampled_data['tweet'] = under_sampled_data['tweet'].apply(lambda x: ' '.join([word for word in x.split() if word not in (names_list)]))"
   ]
  },
  {
   "cell_type": "code",
   "execution_count": 21,
   "id": "ad865cb8",
   "metadata": {},
   "outputs": [
    {
     "data": {
      "text/html": [
       "<div>\n",
       "<style scoped>\n",
       "    .dataframe tbody tr th:only-of-type {\n",
       "        vertical-align: middle;\n",
       "    }\n",
       "\n",
       "    .dataframe tbody tr th {\n",
       "        vertical-align: top;\n",
       "    }\n",
       "\n",
       "    .dataframe thead th {\n",
       "        text-align: right;\n",
       "    }\n",
       "</style>\n",
       "<table border=\"1\" class=\"dataframe\">\n",
       "  <thead>\n",
       "    <tr style=\"text-align: right;\">\n",
       "      <th></th>\n",
       "      <th>tweet</th>\n",
       "      <th>dialect</th>\n",
       "    </tr>\n",
       "  </thead>\n",
       "  <tbody>\n",
       "    <tr>\n",
       "      <th>0</th>\n",
       "      <td>انهارده درجه الحراره و الجو موتبعد كدا اللي هي...</td>\n",
       "      <td>EG</td>\n",
       "    </tr>\n",
       "    <tr>\n",
       "      <th>1</th>\n",
       "      <td>هي متعوده علي النجاسه</td>\n",
       "      <td>EG</td>\n",
       "    </tr>\n",
       "    <tr>\n",
       "      <th>2</th>\n",
       "      <td>صاحبتويتروفولورزالاتنين والتلات كمان</td>\n",
       "      <td>EG</td>\n",
       "    </tr>\n",
       "    <tr>\n",
       "      <th>3</th>\n",
       "      <td>فالواقع انا ما ارتبطش قبل كده فالطبيعي عندي ان...</td>\n",
       "      <td>EG</td>\n",
       "    </tr>\n",
       "    <tr>\n",
       "      <th>4</th>\n",
       "      <td>ماقدرش انكر ان فيه بنات بتسوق كويس ويمكن من رج...</td>\n",
       "      <td>EG</td>\n",
       "    </tr>\n",
       "  </tbody>\n",
       "</table>\n",
       "</div>"
      ],
      "text/plain": [
       "                                               tweet dialect\n",
       "0  انهارده درجه الحراره و الجو موتبعد كدا اللي هي...      EG\n",
       "1                              هي متعوده علي النجاسه      EG\n",
       "2               صاحبتويتروفولورزالاتنين والتلات كمان      EG\n",
       "3  فالواقع انا ما ارتبطش قبل كده فالطبيعي عندي ان...      EG\n",
       "4  ماقدرش انكر ان فيه بنات بتسوق كويس ويمكن من رج...      EG"
      ]
     },
     "execution_count": 21,
     "metadata": {},
     "output_type": "execute_result"
    }
   ],
   "source": [
    "under_sampled_data.head()"
   ]
  },
  {
   "cell_type": "markdown",
   "id": "2ac41b7c",
   "metadata": {},
   "source": [
    "### Stop words removal "
   ]
  },
  {
   "cell_type": "code",
   "execution_count": 22,
   "id": "2152101e",
   "metadata": {},
   "outputs": [],
   "source": [
    "import nltk\n",
    "arab_stopwords = set(nltk.corpus.stopwords.words(\"arabic\"))"
   ]
  },
  {
   "cell_type": "code",
   "execution_count": 23,
   "id": "93f0f3c4",
   "metadata": {},
   "outputs": [],
   "source": [
    "additional_stopwords = {'بس','يوم','ﻣﺎ','و', 'ﻣﻦ', 'ﻓﻲ', 'الي', 'يونيو','اب', 'ام','اه','ابريل','هو','هي','اللي','يا','لما','لو','لذلك'}\n",
    "joint_stop_words = arab_stopwords.union(additional_stopwords)"
   ]
  },
  {
   "cell_type": "code",
   "execution_count": 24,
   "id": "472dc71d",
   "metadata": {},
   "outputs": [
    {
     "data": {
      "text/plain": [
       "712"
      ]
     },
     "execution_count": 24,
     "metadata": {},
     "output_type": "execute_result"
    }
   ],
   "source": [
    "len(joint_stop_words)"
   ]
  },
  {
   "cell_type": "code",
   "execution_count": 25,
   "id": "2ed56bd2",
   "metadata": {},
   "outputs": [],
   "source": [
    "under_sampled_data['tweet'] = under_sampled_data['tweet'].apply(lambda x: ' '.join([word for word in x.split() if word not in (joint_stop_words)]))"
   ]
  },
  {
   "cell_type": "code",
   "execution_count": 26,
   "id": "c4cf8f23",
   "metadata": {},
   "outputs": [
    {
     "data": {
      "text/html": [
       "<div>\n",
       "<style scoped>\n",
       "    .dataframe tbody tr th:only-of-type {\n",
       "        vertical-align: middle;\n",
       "    }\n",
       "\n",
       "    .dataframe tbody tr th {\n",
       "        vertical-align: top;\n",
       "    }\n",
       "\n",
       "    .dataframe thead th {\n",
       "        text-align: right;\n",
       "    }\n",
       "</style>\n",
       "<table border=\"1\" class=\"dataframe\">\n",
       "  <thead>\n",
       "    <tr style=\"text-align: right;\">\n",
       "      <th></th>\n",
       "      <th>tweet</th>\n",
       "      <th>dialect</th>\n",
       "    </tr>\n",
       "  </thead>\n",
       "  <tbody>\n",
       "    <tr>\n",
       "      <th>0</th>\n",
       "      <td>انهارده درجه الحراره الجو موتبعد كدا هيجي يقول...</td>\n",
       "      <td>EG</td>\n",
       "    </tr>\n",
       "    <tr>\n",
       "      <th>1</th>\n",
       "      <td>متعوده علي النجاسه</td>\n",
       "      <td>EG</td>\n",
       "    </tr>\n",
       "    <tr>\n",
       "      <th>2</th>\n",
       "      <td>صاحبتويتروفولورزالاتنين والتلات كمان</td>\n",
       "      <td>EG</td>\n",
       "    </tr>\n",
       "    <tr>\n",
       "      <th>3</th>\n",
       "      <td>فالواقع انا ارتبطش كده فالطبيعي عندي ان ميفرقش...</td>\n",
       "      <td>EG</td>\n",
       "    </tr>\n",
       "    <tr>\n",
       "      <th>4</th>\n",
       "      <td>ماقدرش انكر ان بنات بتسوق كويس ويمكن رجاله كتي...</td>\n",
       "      <td>EG</td>\n",
       "    </tr>\n",
       "  </tbody>\n",
       "</table>\n",
       "</div>"
      ],
      "text/plain": [
       "                                               tweet dialect\n",
       "0  انهارده درجه الحراره الجو موتبعد كدا هيجي يقول...      EG\n",
       "1                                 متعوده علي النجاسه      EG\n",
       "2               صاحبتويتروفولورزالاتنين والتلات كمان      EG\n",
       "3  فالواقع انا ارتبطش كده فالطبيعي عندي ان ميفرقش...      EG\n",
       "4  ماقدرش انكر ان بنات بتسوق كويس ويمكن رجاله كتي...      EG"
      ]
     },
     "execution_count": 26,
     "metadata": {},
     "output_type": "execute_result"
    }
   ],
   "source": [
    "under_sampled_data.head()"
   ]
  },
  {
   "cell_type": "markdown",
   "id": "56498270",
   "metadata": {},
   "source": [
    "### Text stemming "
   ]
  },
  {
   "cell_type": "code",
   "execution_count": 27,
   "id": "98c147cf",
   "metadata": {},
   "outputs": [
    {
     "data": {
      "text/html": [
       "<div>\n",
       "<style scoped>\n",
       "    .dataframe tbody tr th:only-of-type {\n",
       "        vertical-align: middle;\n",
       "    }\n",
       "\n",
       "    .dataframe tbody tr th {\n",
       "        vertical-align: top;\n",
       "    }\n",
       "\n",
       "    .dataframe thead th {\n",
       "        text-align: right;\n",
       "    }\n",
       "</style>\n",
       "<table border=\"1\" class=\"dataframe\">\n",
       "  <thead>\n",
       "    <tr style=\"text-align: right;\">\n",
       "      <th></th>\n",
       "      <th>tweet</th>\n",
       "      <th>dialect</th>\n",
       "    </tr>\n",
       "  </thead>\n",
       "  <tbody>\n",
       "    <tr>\n",
       "      <th>0</th>\n",
       "      <td>انهارده درجه الحراره الجو موتبعد كدا هيجي يقول...</td>\n",
       "      <td>EG</td>\n",
       "    </tr>\n",
       "    <tr>\n",
       "      <th>1</th>\n",
       "      <td>متعوده علي النجاس</td>\n",
       "      <td>EG</td>\n",
       "    </tr>\n",
       "    <tr>\n",
       "      <th>2</th>\n",
       "      <td>صاحبتويتروفولورزالاتنين والتلات كم</td>\n",
       "      <td>EG</td>\n",
       "    </tr>\n",
       "    <tr>\n",
       "      <th>3</th>\n",
       "      <td>فالواقع انا ارتبطش كده فالطبيعي عندي ان ميفرقش...</td>\n",
       "      <td>EG</td>\n",
       "    </tr>\n",
       "    <tr>\n",
       "      <th>4</th>\n",
       "      <td>ماقدرش انكر ان بنات بتسوق كويس ويمكن رجاله كتي...</td>\n",
       "      <td>EG</td>\n",
       "    </tr>\n",
       "  </tbody>\n",
       "</table>\n",
       "</div>"
      ],
      "text/plain": [
       "                                               tweet dialect\n",
       "0  انهارده درجه الحراره الجو موتبعد كدا هيجي يقول...      EG\n",
       "1                                  متعوده علي النجاس      EG\n",
       "2                 صاحبتويتروفولورزالاتنين والتلات كم      EG\n",
       "3  فالواقع انا ارتبطش كده فالطبيعي عندي ان ميفرقش...      EG\n",
       "4  ماقدرش انكر ان بنات بتسوق كويس ويمكن رجاله كتي...      EG"
      ]
     },
     "execution_count": 27,
     "metadata": {},
     "output_type": "execute_result"
    }
   ],
   "source": [
    "from nltk.stem.isri import ISRIStemmer\n",
    "from snowballstemmer import stemmer\n",
    "ar_stemmer = stemmer(\"arabic\")\n",
    "\n",
    "def stemmer(tweet):\n",
    "    st = ISRIStemmer()\n",
    "    #newtweet = st.stem(u'{}'.format(tweet))\n",
    "    newtweet = ar_stemmer.stemWord(tweet)\n",
    "    return newtweet\n",
    "\n",
    "under_sampled_data['tweet'] = under_sampled_data['tweet'].apply(stemmer)\n",
    "under_sampled_data.head()"
   ]
  },
  {
   "cell_type": "markdown",
   "id": "fd5893a5",
   "metadata": {},
   "source": [
    "### Dialects labels encoding "
   ]
  },
  {
   "cell_type": "code",
   "execution_count": 28,
   "id": "106cbafd",
   "metadata": {},
   "outputs": [],
   "source": [
    "from sklearn.preprocessing import LabelEncoder\n",
    "le = LabelEncoder()\n",
    "\n",
    "under_sampled_data['dialect'] = le.fit_transform(under_sampled_data['dialect'])"
   ]
  },
  {
   "cell_type": "code",
   "execution_count": 29,
   "id": "f5eae0f1",
   "metadata": {
    "scrolled": true
   },
   "outputs": [
    {
     "data": {
      "text/html": [
       "<div>\n",
       "<style scoped>\n",
       "    .dataframe tbody tr th:only-of-type {\n",
       "        vertical-align: middle;\n",
       "    }\n",
       "\n",
       "    .dataframe tbody tr th {\n",
       "        vertical-align: top;\n",
       "    }\n",
       "\n",
       "    .dataframe thead th {\n",
       "        text-align: right;\n",
       "    }\n",
       "</style>\n",
       "<table border=\"1\" class=\"dataframe\">\n",
       "  <thead>\n",
       "    <tr style=\"text-align: right;\">\n",
       "      <th></th>\n",
       "      <th>tweet</th>\n",
       "      <th>dialect</th>\n",
       "    </tr>\n",
       "  </thead>\n",
       "  <tbody>\n",
       "    <tr>\n",
       "      <th>0</th>\n",
       "      <td>انهارده درجه الحراره الجو موتبعد كدا هيجي يقول...</td>\n",
       "      <td>0</td>\n",
       "    </tr>\n",
       "  </tbody>\n",
       "</table>\n",
       "</div>"
      ],
      "text/plain": [
       "                                               tweet  dialect\n",
       "0  انهارده درجه الحراره الجو موتبعد كدا هيجي يقول...        0"
      ]
     },
     "execution_count": 29,
     "metadata": {},
     "output_type": "execute_result"
    }
   ],
   "source": [
    "under_sampled_data.head(1)"
   ]
  },
  {
   "cell_type": "markdown",
   "id": "1a9d9d4e",
   "metadata": {},
   "source": [
    "## Data split\n",
    "Data spliting will occur before the utilisation of bag of words method to ensure that no data leak happens."
   ]
  },
  {
   "cell_type": "code",
   "execution_count": 30,
   "id": "ea9697fa",
   "metadata": {},
   "outputs": [],
   "source": [
    "tweets = under_sampled_data['tweet']\n",
    "dialect_target = under_sampled_data['dialect']"
   ]
  },
  {
   "cell_type": "code",
   "execution_count": 31,
   "id": "cd7caef9",
   "metadata": {},
   "outputs": [],
   "source": [
    "from sklearn.model_selection import train_test_split\n",
    "x_train, x_test, y_train, y_test = train_test_split(tweets, dialect_target, test_size = 0.2, random_state = 0)"
   ]
  },
  {
   "cell_type": "markdown",
   "id": "2618bcce",
   "metadata": {},
   "source": [
    "### Bag of words\n",
    "#### Vectorize training data"
   ]
  },
  {
   "cell_type": "code",
   "execution_count": 32,
   "id": "afeef325",
   "metadata": {},
   "outputs": [],
   "source": [
    "from sklearn.feature_extraction.text import CountVectorizer\n",
    "vectorizer = CountVectorizer(analyzer = \"word\",\n",
    "                             tokenizer = None,\n",
    "                             preprocessor = None,\n",
    "                             stop_words = None,\n",
    "                             max_features = 5000)"
   ]
  },
  {
   "cell_type": "code",
   "execution_count": 33,
   "id": "5bc0957b",
   "metadata": {},
   "outputs": [],
   "source": [
    "train_data_features = vectorizer.fit_transform(x_train)\n",
    "# Numpy arrays are easy to work with, so convert the result to an array\n",
    "train_data_features = train_data_features.toarray()"
   ]
  },
  {
   "cell_type": "code",
   "execution_count": 34,
   "id": "5ed3e56d",
   "metadata": {},
   "outputs": [
    {
     "data": {
      "text/plain": [
       "(160000, 5000)"
      ]
     },
     "execution_count": 34,
     "metadata": {},
     "output_type": "execute_result"
    }
   ],
   "source": [
    "from sklearn.feature_extraction.text import TfidfTransformer\n",
    "tfidf_transformer = TfidfTransformer()\n",
    "X_train_tfidf = tfidf_transformer.fit_transform(train_data_features)\n",
    "X_train_tfidf.shape"
   ]
  },
  {
   "cell_type": "code",
   "execution_count": 35,
   "id": "ebdb4e98",
   "metadata": {},
   "outputs": [
    {
     "data": {
      "text/plain": [
       "array(['اااه', 'ااه', 'اب', ..., 'يوميا', 'يومين', 'ييجي'], dtype=object)"
      ]
     },
     "execution_count": 35,
     "metadata": {},
     "output_type": "execute_result"
    }
   ],
   "source": [
    "vocab = vectorizer.get_feature_names_out()\n",
    "vocab"
   ]
  },
  {
   "cell_type": "markdown",
   "id": "639736f1",
   "metadata": {},
   "source": [
    "#### Vectorize test features"
   ]
  },
  {
   "cell_type": "code",
   "execution_count": 36,
   "id": "3c45a556",
   "metadata": {},
   "outputs": [],
   "source": [
    "test_data_feat = vectorizer.transform(x_test)\n",
    "final_test = tfidf_transformer.transform(test_data_feat)"
   ]
  },
  {
   "cell_type": "markdown",
   "id": "d2b6f981",
   "metadata": {},
   "source": [
    "## Models (Testing data) "
   ]
  },
  {
   "cell_type": "code",
   "execution_count": 44,
   "id": "a0e01d7d",
   "metadata": {},
   "outputs": [],
   "source": [
    "from datetime import datetime\n",
    "from sklearn.metrics import accuracy_score\n",
    "from sklearn.model_selection import GridSearchCV"
   ]
  },
  {
   "cell_type": "markdown",
   "id": "9fd07097",
   "metadata": {},
   "source": [
    "### Random forrest"
   ]
  },
  {
   "cell_type": "code",
   "execution_count": 41,
   "id": "5ce19914",
   "metadata": {},
   "outputs": [
    {
     "name": "stdout",
     "output_type": "stream",
     "text": [
      "Random forrest start time: 2022-03-19 19:34:59.604179\n",
      "Training time: 0:01:18.186096\n"
     ]
    }
   ],
   "source": [
    "from sklearn.ensemble import RandomForestClassifier\n",
    "                                                                      \n",
    "# Initialize a Random Forest classifier with 100 trees\n",
    "forest = RandomForestClassifier(n_estimators = 200,\n",
    "                                criterion = 'entropy',\n",
    "                                max_depth = 70,\n",
    "                                min_samples_split=5)\n",
    "# Fitting the random forest using the training set\n",
    "start = datetime.now()\n",
    "print('Random forrest start time: {}'.format(start))\n",
    "forest = forest.fit(X_train_tfidf, y_train)\n",
    "print('Training time: {}'.format(datetime.now() - start))"
   ]
  },
  {
   "cell_type": "markdown",
   "id": "f614a2f2",
   "metadata": {},
   "source": [
    "#### Random forrest evaluation"
   ]
  },
  {
   "cell_type": "code",
   "execution_count": 42,
   "id": "4e553e62",
   "metadata": {},
   "outputs": [
    {
     "data": {
      "text/plain": [
       "0.60720625"
      ]
     },
     "execution_count": 42,
     "metadata": {},
     "output_type": "execute_result"
    }
   ],
   "source": [
    "y_pred_train = forest.predict(train_data_features)\n",
    "accuracy_score(y_train, y_pred_train.reshape(-1, 1), normalize=True)"
   ]
  },
  {
   "cell_type": "code",
   "execution_count": 43,
   "id": "0af1add5",
   "metadata": {},
   "outputs": [
    {
     "data": {
      "text/plain": [
       "0.570675"
      ]
     },
     "execution_count": 43,
     "metadata": {},
     "output_type": "execute_result"
    }
   ],
   "source": [
    "y_pred = forest.predict(final_test)\n",
    "accuracy_score(y_test, y_pred.reshape(-1, 1), normalize = True)"
   ]
  },
  {
   "cell_type": "markdown",
   "id": "c8ec974c",
   "metadata": {},
   "source": [
    "### Random forrest using GridSearch"
   ]
  },
  {
   "cell_type": "code",
   "execution_count": 45,
   "id": "cde5b415",
   "metadata": {},
   "outputs": [],
   "source": [
    "forest_parameters = {'n_estimators':[150,200,250], 'criterion': ['entropy', 'gini'], \n",
    "              'min_samples_split':[2, 5, 7], 'max_depth':[10,20,50,90]}"
   ]
  },
  {
   "cell_type": "code",
   "execution_count": null,
   "id": "85306c00",
   "metadata": {},
   "outputs": [
    {
     "name": "stdout",
     "output_type": "stream",
     "text": [
      "Random forrest with grid search start time: 2022-03-19 19:34:59.604179\n"
     ]
    }
   ],
   "source": [
    "print('Random forrest with grid search start time: {}'.format(start))\n",
    "forest_clf = RandomForestClassifier()\n",
    "best_forest = GridSearchCV(forest_clf, forest_parameters)\n",
    "best_forest.fit(X_train_tfidf, y_train)\n",
    "print('Random forrest with grid search training duration: {}'.format(datetime.now() - start))"
   ]
  },
  {
   "cell_type": "markdown",
   "id": "e58d0cbc",
   "metadata": {},
   "source": [
    "#### Random forest with GridSearch evaluation"
   ]
  },
  {
   "cell_type": "code",
   "execution_count": null,
   "id": "904a7e3b",
   "metadata": {},
   "outputs": [],
   "source": [
    "y_pred_train = best_forest.predict(train_data_features)\n",
    "accuracy_score(y_train, y_pred_train.reshape(-1, 1), normalize=True)"
   ]
  },
  {
   "cell_type": "code",
   "execution_count": null,
   "id": "80a743fd",
   "metadata": {},
   "outputs": [],
   "source": [
    "y_pred = best_forest.predict(final_test)\n",
    "accuracy_score(y_test, y_pred.reshape(-1, 1), normalize = True)"
   ]
  },
  {
   "cell_type": "markdown",
   "id": "9d21693e",
   "metadata": {},
   "source": [
    "### SVM"
   ]
  },
  {
   "cell_type": "markdown",
   "id": "a0ff9afd",
   "metadata": {},
   "source": [
    "from sklearn import svm\n",
    "start = datetime.now()\n",
    "\n",
    "text_clf_svm = svm.SVC()#decision_function_shape ='ovo')\n",
    "_ = text_clf_svm.fit(X_train_tfidf, y_train)\n",
    "predicted_svm = text_clf_svm.predict(X_train_tfidf)\n",
    "print('Training time: {}'.format(datetime.now() - start))"
   ]
  },
  {
   "cell_type": "markdown",
   "id": "823ded0c",
   "metadata": {},
   "source": [
    "#### Support vector machine evaluation"
   ]
  },
  {
   "cell_type": "markdown",
   "id": "98d367a7",
   "metadata": {},
   "source": [
    "np.mean(predicted_svm == y_train)"
   ]
  },
  {
   "cell_type": "markdown",
   "id": "f26df4a0",
   "metadata": {},
   "source": [
    "### XGboost classifier"
   ]
  },
  {
   "cell_type": "code",
   "execution_count": null,
   "id": "ab36ac9d",
   "metadata": {},
   "outputs": [],
   "source": [
    "from sklearn.ensemble import GradientBoostingClassifier\n",
    "\n",
    "start = datetime.now()\n",
    "print('XGboost start time: {}'.format(start))\n",
    "clf = GradientBoostingClassifier(n_estimators=200,\n",
    "                                learning_rate=1e-3,\n",
    "                                max_depth=40,\n",
    "                                random_state=0)\n",
    "# Fit XGboost classifier\n",
    "clf.fit(X_train_tfidf, y_train)\n",
    "print('XGboost training duration: {}'.format(datetime.now() - start))"
   ]
  },
  {
   "cell_type": "markdown",
   "id": "d267576f",
   "metadata": {},
   "source": [
    "#### XGboost evaluation"
   ]
  },
  {
   "cell_type": "code",
   "execution_count": null,
   "id": "3655e149",
   "metadata": {},
   "outputs": [],
   "source": [
    "clf.score(X_train_tfidf, y_train)"
   ]
  },
  {
   "cell_type": "code",
   "execution_count": null,
   "id": "1b2ff942",
   "metadata": {},
   "outputs": [],
   "source": [
    "clf.score(final_test, y_test)"
   ]
  },
  {
   "cell_type": "markdown",
   "id": "f6fa6415",
   "metadata": {},
   "source": [
    "### XGboost with Grid search hyper parameters tuning"
   ]
  },
  {
   "cell_type": "markdown",
   "id": "d6cd0350",
   "metadata": {},
   "source": [
    "#### Grid search parameters "
   ]
  },
  {
   "cell_type": "code",
   "execution_count": null,
   "id": "8dfc4625",
   "metadata": {},
   "outputs": [],
   "source": [
    "parameters = {'n_estimators':[150,200,250], 'learning_rate':[1e-3, 1e-1,1], 'max_depth':[10,20,50,90]}"
   ]
  },
  {
   "cell_type": "code",
   "execution_count": null,
   "id": "65d84199",
   "metadata": {},
   "outputs": [],
   "source": [
    "print('XGboost with grid search start time: {}'.format(start))\n",
    "gbc = GradientBoostingClassifier()\n",
    "grid_clf = GridSearchCV(svc, parameters)\n",
    "clf.fit(X_train_tfidf, y_train)\n",
    "print('XGboost with grid search training duration: {}'.format(datetime.now() - start))"
   ]
  }
 ],
 "metadata": {
  "kernelspec": {
   "display_name": "Python 3",
   "language": "python",
   "name": "python3"
  },
  "language_info": {
   "codemirror_mode": {
    "name": "ipython",
    "version": 3
   },
   "file_extension": ".py",
   "mimetype": "text/x-python",
   "name": "python",
   "nbconvert_exporter": "python",
   "pygments_lexer": "ipython3",
   "version": "3.9.7"
  }
 },
 "nbformat": 4,
 "nbformat_minor": 5
}
