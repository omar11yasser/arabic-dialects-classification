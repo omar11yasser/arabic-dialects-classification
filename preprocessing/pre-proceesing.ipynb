{
 "cells": [
  {
   "attachments": {},
   "cell_type": "markdown",
   "id": "a615abf1",
   "metadata": {},
   "source": [
    "# Data pre-proceesing for arabic dialect classification"
   ]
  },
  {
   "attachments": {},
   "cell_type": "markdown",
   "id": "2d848caf",
   "metadata": {},
   "source": [
    "### Introduction\n",
    "The data preprocessing is one of the most crucial steps in the machine learning process, here I will explain my preprocessing steps "
   ]
  },
  {
   "attachments": {},
   "cell_type": "markdown",
   "id": "9a21dd57",
   "metadata": {},
   "source": [
    "## Data import "
   ]
  },
  {
   "cell_type": "code",
   "execution_count": 36,
   "id": "36595ba2",
   "metadata": {},
   "outputs": [],
   "source": [
    "# Create path to input files\n",
    "import os\n",
    "\n",
    "inputs_path = os.path.abspath('../inputs/')"
   ]
  },
  {
   "cell_type": "code",
   "execution_count": 37,
   "id": "fea4b62c",
   "metadata": {
    "scrolled": true
   },
   "outputs": [
    {
     "data": {
      "text/html": [
       "<div>\n",
       "<style scoped>\n",
       "    .dataframe tbody tr th:only-of-type {\n",
       "        vertical-align: middle;\n",
       "    }\n",
       "\n",
       "    .dataframe tbody tr th {\n",
       "        vertical-align: top;\n",
       "    }\n",
       "\n",
       "    .dataframe thead th {\n",
       "        text-align: right;\n",
       "    }\n",
       "</style>\n",
       "<table border=\"1\" class=\"dataframe\">\n",
       "  <thead>\n",
       "    <tr style=\"text-align: right;\">\n",
       "      <th></th>\n",
       "      <th>id</th>\n",
       "      <th>tweet</th>\n",
       "      <th>dialect</th>\n",
       "    </tr>\n",
       "  </thead>\n",
       "  <tbody>\n",
       "    <tr>\n",
       "      <th>0</th>\n",
       "      <td>1.175360e+18</td>\n",
       "      <td>@Nw8ieJUwaCAAreT لكن بالنهاية .. ينتفض .. يغير .</td>\n",
       "      <td>IQ</td>\n",
       "    </tr>\n",
       "    <tr>\n",
       "      <th>1</th>\n",
       "      <td>1.175420e+18</td>\n",
       "      <td>@7zNqXP0yrODdRjK يعني هذا محسوب على البشر .. ح...</td>\n",
       "      <td>IQ</td>\n",
       "    </tr>\n",
       "    <tr>\n",
       "      <th>2</th>\n",
       "      <td>1.175450e+18</td>\n",
       "      <td>@KanaanRema مبين من كلامه خليجي</td>\n",
       "      <td>IQ</td>\n",
       "    </tr>\n",
       "    <tr>\n",
       "      <th>3</th>\n",
       "      <td>1.175470e+18</td>\n",
       "      <td>@HAIDER76128900 يسلملي مرورك وروحك الحلوه💐</td>\n",
       "      <td>IQ</td>\n",
       "    </tr>\n",
       "    <tr>\n",
       "      <th>4</th>\n",
       "      <td>1.175500e+18</td>\n",
       "      <td>@hmo2406 وين هل الغيبه  اخ محمد 🌸🌺</td>\n",
       "      <td>IQ</td>\n",
       "    </tr>\n",
       "  </tbody>\n",
       "</table>\n",
       "</div>"
      ],
      "text/plain": [
       "             id                                              tweet dialect\n",
       "0  1.175360e+18   @Nw8ieJUwaCAAreT لكن بالنهاية .. ينتفض .. يغير .      IQ\n",
       "1  1.175420e+18  @7zNqXP0yrODdRjK يعني هذا محسوب على البشر .. ح...      IQ\n",
       "2  1.175450e+18                    @KanaanRema مبين من كلامه خليجي      IQ\n",
       "3  1.175470e+18         @HAIDER76128900 يسلملي مرورك وروحك الحلوه💐      IQ\n",
       "4  1.175500e+18                 @hmo2406 وين هل الغيبه  اخ محمد 🌸🌺      IQ"
      ]
     },
     "execution_count": 37,
     "metadata": {},
     "output_type": "execute_result"
    }
   ],
   "source": [
    "import pandas as pd\n",
    "\n",
    "dialects_data = pd.read_csv(inputs_path + '/dialcets_data.csv')\n",
    "dialects_data.head()"
   ]
  },
  {
   "attachments": {},
   "cell_type": "markdown",
   "id": "afe3914d",
   "metadata": {},
   "source": [
    "### Dataset balance visualization"
   ]
  },
  {
   "cell_type": "code",
   "execution_count": 38,
   "id": "67b79cec",
   "metadata": {
    "scrolled": true
   },
   "outputs": [
    {
     "data": {
      "image/png": "[encoded data removed]",
      "text/plain": [
       "<Figure size 432x288 with 1 Axes>"
      ]
     },
     "metadata": {
      "needs_background": "light"
     },
     "output_type": "display_data"
    }
   ],
   "source": [
    "import matplotlib.pyplot as plt\n",
    "classes_num = dialects_data['dialect'].value_counts().plot(kind = 'bar',\n",
    "                                                          title = 'Dataset Balance',\n",
    "                                                          xlabel = 'Dialect',\n",
    "                                                          ylabel = 'Number of samples')"
   ]
  },
  {
   "cell_type": "code",
   "execution_count": 39,
   "id": "9e5632cd",
   "metadata": {},
   "outputs": [],
   "source": [
    "# Merge gulf dialcets\n",
    "dialects_data['dialect'].replace(['SA', 'AE', 'QA', 'BH', 'KW', 'OM', 'IQ'], 'GUL', inplace=True)\n",
    "# Merge noth african countries (Except for egyptyian)\n",
    "dialects_data['dialect'].replace(['LIB', 'DZ', 'MA', 'TN', 'LY'], 'NA', inplace=True)\n",
    "# Merge Levantine countries\n",
    "dialects_data['dialect'].replace(['SY', 'PL', 'JO', 'LB'], 'LV', inplace=True)"
   ]
  },
  {
   "cell_type": "code",
   "execution_count": 40,
   "id": "c3f32258",
   "metadata": {},
   "outputs": [
    {
     "data": {
      "image/png": "[encoded data removed]",
      "text/plain": [
       "<Figure size 432x288 with 1 Axes>"
      ]
     },
     "metadata": {
      "needs_background": "light"
     },
     "output_type": "display_data"
    }
   ],
   "source": [
    "classes_num = dialects_data['dialect'].value_counts().plot(kind = 'bar',\n",
    "                                                          title = 'Dataset Balance',\n",
    "                                                          xlabel = 'Dialect',\n",
    "                                                          ylabel = 'Number of samples')"
   ]
  },
  {
   "attachments": {},
   "cell_type": "markdown",
   "id": "1015d453",
   "metadata": {},
   "source": [
    "## Data pre-processing \n",
    "### Drop uncessary features \n",
    "Remove IDs column from the data because it is not useful going forward."
   ]
  },
  {
   "cell_type": "code",
   "execution_count": 41,
   "id": "813f8c25",
   "metadata": {},
   "outputs": [
    {
     "data": {
      "text/html": [
       "<div>\n",
       "<style scoped>\n",
       "    .dataframe tbody tr th:only-of-type {\n",
       "        vertical-align: middle;\n",
       "    }\n",
       "\n",
       "    .dataframe tbody tr th {\n",
       "        vertical-align: top;\n",
       "    }\n",
       "\n",
       "    .dataframe thead th {\n",
       "        text-align: right;\n",
       "    }\n",
       "</style>\n",
       "<table border=\"1\" class=\"dataframe\">\n",
       "  <thead>\n",
       "    <tr style=\"text-align: right;\">\n",
       "      <th></th>\n",
       "      <th>tweet</th>\n",
       "      <th>dialect</th>\n",
       "    </tr>\n",
       "  </thead>\n",
       "  <tbody>\n",
       "    <tr>\n",
       "      <th>0</th>\n",
       "      <td>@Nw8ieJUwaCAAreT لكن بالنهاية .. ينتفض .. يغير .</td>\n",
       "      <td>GUL</td>\n",
       "    </tr>\n",
       "  </tbody>\n",
       "</table>\n",
       "</div>"
      ],
      "text/plain": [
       "                                              tweet dialect\n",
       "0  @Nw8ieJUwaCAAreT لكن بالنهاية .. ينتفض .. يغير .     GUL"
      ]
     },
     "execution_count": 41,
     "metadata": {},
     "output_type": "execute_result"
    }
   ],
   "source": [
    "dialects_data.drop('id', axis = 1, inplace = True)\n",
    "dialects_data.head(1)"
   ]
  },
  {
   "attachments": {},
   "cell_type": "markdown",
   "id": "8fc2a1c7",
   "metadata": {},
   "source": [
    "### Merge similar dilacets"
   ]
  },
  {
   "attachments": {},
   "cell_type": "markdown",
   "id": "b77be25a",
   "metadata": {},
   "source": [
    "### Undersampling "
   ]
  },
  {
   "cell_type": "code",
   "execution_count": 42,
   "id": "38d58123",
   "metadata": {},
   "outputs": [],
   "source": [
    "from imblearn.under_sampling import RandomUnderSampler\n",
    "\n",
    "undersample = RandomUnderSampler(sampling_strategy={'GUL': 50000, 'LV': 50000, 'EG': 50000, 'NA': 50000})\n",
    "X_under, y_under = undersample.fit_resample(dialects_data['tweet'].values.reshape(-1, 1), dialects_data['dialect'])"
   ]
  },
  {
   "cell_type": "code",
   "execution_count": 43,
   "id": "bd379fd1",
   "metadata": {},
   "outputs": [],
   "source": [
    "X_under = pd.Series(X_under.ravel())"
   ]
  },
  {
   "cell_type": "code",
   "execution_count": 44,
   "id": "3cf6c4b6",
   "metadata": {},
   "outputs": [
    {
     "data": {
      "text/html": [
       "<div>\n",
       "<style scoped>\n",
       "    .dataframe tbody tr th:only-of-type {\n",
       "        vertical-align: middle;\n",
       "    }\n",
       "\n",
       "    .dataframe tbody tr th {\n",
       "        vertical-align: top;\n",
       "    }\n",
       "\n",
       "    .dataframe thead th {\n",
       "        text-align: right;\n",
       "    }\n",
       "</style>\n",
       "<table border=\"1\" class=\"dataframe\">\n",
       "  <thead>\n",
       "    <tr style=\"text-align: right;\">\n",
       "      <th></th>\n",
       "      <th>tweet</th>\n",
       "      <th>dialect</th>\n",
       "    </tr>\n",
       "  </thead>\n",
       "  <tbody>\n",
       "    <tr>\n",
       "      <th>0</th>\n",
       "      <td>#اليمين_الدستوريه بالنسبه للفتاه الفلسطينية ال...</td>\n",
       "      <td>EG</td>\n",
       "    </tr>\n",
       "    <tr>\n",
       "      <th>1</th>\n",
       "      <td>جتكم نيله..ده كان بيدافع عن مرسي الله يرحمه ال...</td>\n",
       "      <td>EG</td>\n",
       "    </tr>\n",
       "    <tr>\n",
       "      <th>2</th>\n",
       "      <td>@AsmaAhm63626594 تسلمى اختى 🙏\\nاهوه قاعد مصدع ...</td>\n",
       "      <td>EG</td>\n",
       "    </tr>\n",
       "    <tr>\n",
       "      <th>3</th>\n",
       "      <td>وكلنها ولعة اكبر سوق للكتب تقريبا في مصر  كتب ...</td>\n",
       "      <td>EG</td>\n",
       "    </tr>\n",
       "    <tr>\n",
       "      <th>4</th>\n",
       "      <td>@elsyed196 @ykWkCMc8RQYWvPi الله يخرب بيوت الخ...</td>\n",
       "      <td>EG</td>\n",
       "    </tr>\n",
       "  </tbody>\n",
       "</table>\n",
       "</div>"
      ],
      "text/plain": [
       "                                               tweet dialect\n",
       "0  #اليمين_الدستوريه بالنسبه للفتاه الفلسطينية ال...      EG\n",
       "1  جتكم نيله..ده كان بيدافع عن مرسي الله يرحمه ال...      EG\n",
       "2  @AsmaAhm63626594 تسلمى اختى 🙏\\nاهوه قاعد مصدع ...      EG\n",
       "3  وكلنها ولعة اكبر سوق للكتب تقريبا في مصر  كتب ...      EG\n",
       "4  @elsyed196 @ykWkCMc8RQYWvPi الله يخرب بيوت الخ...      EG"
      ]
     },
     "metadata": {},
     "output_type": "display_data"
    }
   ],
   "source": [
    "#Create new dataframe to house under sampled data\n",
    "under_sampled_data = pd.concat([X_under, y_under], axis = 1)\n",
    "under_sampled_data.rename(columns={0: 'tweet'}, inplace = True)\n",
    "display(under_sampled_data.head())"
   ]
  },
  {
   "cell_type": "code",
   "execution_count": 45,
   "id": "5d09a464",
   "metadata": {},
   "outputs": [
    {
     "data": {
      "image/png": "[encoded data removed]",
      "text/plain": [
       "<Figure size 432x288 with 1 Axes>"
      ]
     },
     "metadata": {
      "needs_background": "light"
     },
     "output_type": "display_data"
    }
   ],
   "source": [
    "classes_num = under_sampled_data['dialect'].value_counts().plot(kind = 'bar',\n",
    "                                                          title = 'Dataset Balance',\n",
    "                                                          xlabel = 'Dialect',\n",
    "                                                          ylabel = 'Number of samples')"
   ]
  },
  {
   "attachments": {},
   "cell_type": "markdown",
   "id": "606c964e",
   "metadata": {},
   "source": [
    "### Drop minority classes"
   ]
  },
  {
   "cell_type": "code",
   "execution_count": 46,
   "id": "8dc6711e",
   "metadata": {},
   "outputs": [],
   "source": [
    "under_sampled_data.drop(under_sampled_data.loc[under_sampled_data['dialect']=='YE'].index, inplace=True)\n",
    "#under_sampled_data.drop(under_sampled_data.loc[under_sampled_data['dialect']=='IQ'].index, inplace=True)\n",
    "under_sampled_data.drop(under_sampled_data.loc[under_sampled_data['dialect']=='SD'].index, inplace=True)"
   ]
  },
  {
   "cell_type": "code",
   "execution_count": 47,
   "id": "af7cae9a",
   "metadata": {},
   "outputs": [
    {
     "data": {
      "image/png": "[encoded data removed]",
      "text/plain": [
       "<Figure size 432x288 with 1 Axes>"
      ]
     },
     "metadata": {
      "needs_background": "light"
     },
     "output_type": "display_data"
    }
   ],
   "source": [
    "classes_num = under_sampled_data['dialect'].value_counts().plot(kind = 'bar',\n",
    "                                                          title = 'Dataset Balance',\n",
    "                                                          xlabel = 'Dialect',\n",
    "                                                          ylabel = 'Number of samples')"
   ]
  },
  {
   "attachments": {},
   "cell_type": "markdown",
   "id": "899f6753",
   "metadata": {},
   "source": [
    "### Remove unwanted characters"
   ]
  },
  {
   "cell_type": "code",
   "execution_count": 48,
   "id": "dc93c36e",
   "metadata": {},
   "outputs": [],
   "source": [
    "import re\n",
    "def preprocess_text(tweet):\n",
    "    #tweet = re.sub('/#\\w+\\s*[A-Za-z]+\\b','',tweet) # Remove hashtags\n",
    "    tweet = re.sub('@[^\\s]+','',tweet) # Remove user name and mentions\n",
    "    tweet = re.sub('http[^\\s]+','',tweet) # Remove Hyper links\n",
    "    tweet = re.sub('[^\\w\\s#@/:%.,_-]','',tweet) # Remove emojis\n",
    "    tweet = re.sub('\\d+','',tweet) # Remove numbers\n",
    "    tweet = re.sub('[^\\w\\s]','',tweet) # Remove punctuation\n",
    "    tweet = re.sub(r'[a-zA-Z]','',tweet, flags=re.I) # Remove english words and add flag to remove dotlees i\n",
    "    tweet = re.sub(r'[\\_-]', '', tweet) # Remove underscores and dashes\n",
    "    tweet = re.sub(r'\\n', '', tweet)\n",
    "    tweet = tweet.rstrip()\n",
    "    return tweet"
   ]
  },
  {
   "cell_type": "code",
   "execution_count": 49,
   "id": "4f975167",
   "metadata": {},
   "outputs": [],
   "source": [
    "under_sampled_data['tweet'] = under_sampled_data['tweet'].apply(preprocess_text)"
   ]
  },
  {
   "cell_type": "code",
   "execution_count": 50,
   "id": "ce5820b6",
   "metadata": {},
   "outputs": [
    {
     "data": {
      "text/html": [
       "<div>\n",
       "<style scoped>\n",
       "    .dataframe tbody tr th:only-of-type {\n",
       "        vertical-align: middle;\n",
       "    }\n",
       "\n",
       "    .dataframe tbody tr th {\n",
       "        vertical-align: top;\n",
       "    }\n",
       "\n",
       "    .dataframe thead th {\n",
       "        text-align: right;\n",
       "    }\n",
       "</style>\n",
       "<table border=\"1\" class=\"dataframe\">\n",
       "  <thead>\n",
       "    <tr style=\"text-align: right;\">\n",
       "      <th></th>\n",
       "      <th>tweet</th>\n",
       "      <th>dialect</th>\n",
       "    </tr>\n",
       "  </thead>\n",
       "  <tbody>\n",
       "    <tr>\n",
       "      <th>0</th>\n",
       "      <td>اليمينالدستوريه بالنسبه للفتاه الفلسطينية اللي...</td>\n",
       "      <td>EG</td>\n",
       "    </tr>\n",
       "    <tr>\n",
       "      <th>1</th>\n",
       "      <td>جتكم نيلهده كان بيدافع عن مرسي الله يرحمه اللي...</td>\n",
       "      <td>EG</td>\n",
       "    </tr>\n",
       "    <tr>\n",
       "      <th>2</th>\n",
       "      <td>تسلمى اختى اهوه قاعد مصدع الناس على تويتر</td>\n",
       "      <td>EG</td>\n",
       "    </tr>\n",
       "    <tr>\n",
       "      <th>3</th>\n",
       "      <td>وكلنها ولعة اكبر سوق للكتب تقريبا في مصر  كتب ...</td>\n",
       "      <td>EG</td>\n",
       "    </tr>\n",
       "    <tr>\n",
       "      <th>4</th>\n",
       "      <td>الله يخرب بيوت الخرفان</td>\n",
       "      <td>EG</td>\n",
       "    </tr>\n",
       "  </tbody>\n",
       "</table>\n",
       "</div>"
      ],
      "text/plain": [
       "                                               tweet dialect\n",
       "0  اليمينالدستوريه بالنسبه للفتاه الفلسطينية اللي...      EG\n",
       "1  جتكم نيلهده كان بيدافع عن مرسي الله يرحمه اللي...      EG\n",
       "2          تسلمى اختى اهوه قاعد مصدع الناس على تويتر      EG\n",
       "3  وكلنها ولعة اكبر سوق للكتب تقريبا في مصر  كتب ...      EG\n",
       "4                             الله يخرب بيوت الخرفان      EG"
      ]
     },
     "execution_count": 50,
     "metadata": {},
     "output_type": "execute_result"
    }
   ],
   "source": [
    "under_sampled_data.head()"
   ]
  },
  {
   "attachments": {},
   "cell_type": "markdown",
   "id": "7b83aadd",
   "metadata": {},
   "source": [
    "### Normalize"
   ]
  },
  {
   "cell_type": "code",
   "execution_count": 51,
   "id": "7e2b31cd",
   "metadata": {},
   "outputs": [],
   "source": [
    "#library for text normalization\n",
    "import tashaphyne.normalize as normalize\n",
    "def normalizeArabic(tweet):\n",
    "    return normalize.normalize_searchtext(tweet)"
   ]
  },
  {
   "cell_type": "code",
   "execution_count": 52,
   "id": "71258080",
   "metadata": {},
   "outputs": [
    {
     "name": "stdout",
     "output_type": "stream",
     "text": [
      "0    اليمينالدستوريه بالنسبه للفتاه الفلسطينيه اللي...\n",
      "1    جتكم نيلهده كان بيدافع عن مرسي الله يرحمه اللي...\n",
      "2            تسلمي اختي اهوه قاعد مصدع الناس علي تويتر\n",
      "3    وكلنها ولعه اكبر سوق للكتب تقريبا في مصر  كتب ...\n",
      "4                               الله يخرب بيوت الخرفان\n",
      "5    مش عارف ليه افتكرت جمله ايجيبشن هايبوسني في مس...\n",
      "Name: tweet, dtype: object\n"
     ]
    }
   ],
   "source": [
    "under_sampled_data['tweet'] = under_sampled_data['tweet'].apply(normalizeArabic)\n",
    "print(under_sampled_data['tweet'].loc[0:5])"
   ]
  },
  {
   "attachments": {},
   "cell_type": "markdown",
   "id": "9f94fbe7",
   "metadata": {},
   "source": [
    "### Remove names from tweets using names scraped by ZakAhmed\n",
    "Link to ZakAhmed's GitHub repository: https://github.com/zakahmad/ArabicNameGenderFinder"
   ]
  },
  {
   "cell_type": "code",
   "execution_count": 53,
   "id": "849cf24b",
   "metadata": {},
   "outputs": [],
   "source": [
    "# Gather Names from local documents\n",
    "arabic_names = pd.read_csv('names_stopwords/arabic_names.csv', encoding = 'utf-8')\n",
    "# drop gender column\n",
    "arabic_names.drop('Gender', axis = 1, inplace = True)\n",
    "names_list = arabic_names.values.ravel()\n",
    "# Get list of stopwords from txt file\n",
    "with open('names_stopwords/arabic_names.txt', 'r', encoding=\"utf8\") as file:\n",
    "    names = set(file.read().split())\n",
    "\n",
    "# Join list form csv and txt files\n",
    "joint_names_list = names.union(names_list)"
   ]
  },
  {
   "cell_type": "code",
   "execution_count": 54,
   "id": "fcf52527",
   "metadata": {},
   "outputs": [],
   "source": [
    "# Remove names from tweets\n",
    "under_sampled_data['tweet'] = under_sampled_data['tweet'].apply(lambda x: ' '.join([word for word in x.split() if word not in joint_names_list]))"
   ]
  },
  {
   "cell_type": "code",
   "execution_count": 55,
   "id": "ad865cb8",
   "metadata": {},
   "outputs": [
    {
     "data": {
      "text/html": [
       "<div>\n",
       "<style scoped>\n",
       "    .dataframe tbody tr th:only-of-type {\n",
       "        vertical-align: middle;\n",
       "    }\n",
       "\n",
       "    .dataframe tbody tr th {\n",
       "        vertical-align: top;\n",
       "    }\n",
       "\n",
       "    .dataframe thead th {\n",
       "        text-align: right;\n",
       "    }\n",
       "</style>\n",
       "<table border=\"1\" class=\"dataframe\">\n",
       "  <thead>\n",
       "    <tr style=\"text-align: right;\">\n",
       "      <th></th>\n",
       "      <th>tweet</th>\n",
       "      <th>dialect</th>\n",
       "    </tr>\n",
       "  </thead>\n",
       "  <tbody>\n",
       "    <tr>\n",
       "      <th>0</th>\n",
       "      <td>اليمينالدستوريه بالنسبه للفتاه الفلسطينيه اللي...</td>\n",
       "      <td>EG</td>\n",
       "    </tr>\n",
       "    <tr>\n",
       "      <th>1</th>\n",
       "      <td>جتكم نيلهده كان بيدافع عن مرسي يرحمه اللي بغبا...</td>\n",
       "      <td>EG</td>\n",
       "    </tr>\n",
       "    <tr>\n",
       "      <th>2</th>\n",
       "      <td>تسلمي اختي اهوه قاعد مصدع الناس علي</td>\n",
       "      <td>EG</td>\n",
       "    </tr>\n",
       "    <tr>\n",
       "      <th>3</th>\n",
       "      <td>وكلنها ولعه اكبر سوق للكتب تقريبا في كتب اللبن...</td>\n",
       "      <td>EG</td>\n",
       "    </tr>\n",
       "    <tr>\n",
       "      <th>4</th>\n",
       "      <td>يخرب بيوت الخرفان</td>\n",
       "      <td>EG</td>\n",
       "    </tr>\n",
       "  </tbody>\n",
       "</table>\n",
       "</div>"
      ],
      "text/plain": [
       "                                               tweet dialect\n",
       "0  اليمينالدستوريه بالنسبه للفتاه الفلسطينيه اللي...      EG\n",
       "1  جتكم نيلهده كان بيدافع عن مرسي يرحمه اللي بغبا...      EG\n",
       "2                تسلمي اختي اهوه قاعد مصدع الناس علي      EG\n",
       "3  وكلنها ولعه اكبر سوق للكتب تقريبا في كتب اللبن...      EG\n",
       "4                                  يخرب بيوت الخرفان      EG"
      ]
     },
     "execution_count": 55,
     "metadata": {},
     "output_type": "execute_result"
    }
   ],
   "source": [
    "under_sampled_data.head()"
   ]
  },
  {
   "attachments": {},
   "cell_type": "markdown",
   "id": "2ac41b7c",
   "metadata": {},
   "source": [
    "### Stop words removal\n",
    "Additional stopwords was added based on the results from TF-IDF vectorizer below."
   ]
  },
  {
   "cell_type": "code",
   "execution_count": 56,
   "id": "2152101e",
   "metadata": {},
   "outputs": [
    {
     "name": "stderr",
     "output_type": "stream",
     "text": [
      "[nltk_data] Downloading package stopwords to /home/omary/nltk_data...\n",
      "[nltk_data]   Package stopwords is already up-to-date!\n"
     ]
    },
    {
     "data": {
      "text/plain": [
       "True"
      ]
     },
     "execution_count": 56,
     "metadata": {},
     "output_type": "execute_result"
    }
   ],
   "source": [
    "import nltk\n",
    "nltk.download('stopwords')"
   ]
  },
  {
   "cell_type": "code",
   "execution_count": 57,
   "id": "48bf7fea",
   "metadata": {},
   "outputs": [],
   "source": [
    "\n",
    "with open('names_stopwords/arabic_stopwords.txt', 'r', encoding=\"utf8\") as file:\n",
    "    stopwords = file.read().split()\n",
    "# Create stop words list by joining nltk stopwords with my own.\n",
    "arab_stopwords = set(nltk.corpus.stopwords.words(\"arabic\"))\n",
    "joint_stop_words = arab_stopwords.union(stopwords)"
   ]
  },
  {
   "cell_type": "code",
   "execution_count": 58,
   "id": "2ed56bd2",
   "metadata": {},
   "outputs": [],
   "source": [
    "under_sampled_data['tweet'] = under_sampled_data['tweet'].apply(lambda x: ' '.join([word for word in x.split() if word not in (joint_stop_words)]))"
   ]
  },
  {
   "cell_type": "code",
   "execution_count": 59,
   "id": "c4cf8f23",
   "metadata": {},
   "outputs": [
    {
     "data": {
      "text/html": [
       "<div>\n",
       "<style scoped>\n",
       "    .dataframe tbody tr th:only-of-type {\n",
       "        vertical-align: middle;\n",
       "    }\n",
       "\n",
       "    .dataframe tbody tr th {\n",
       "        vertical-align: top;\n",
       "    }\n",
       "\n",
       "    .dataframe thead th {\n",
       "        text-align: right;\n",
       "    }\n",
       "</style>\n",
       "<table border=\"1\" class=\"dataframe\">\n",
       "  <thead>\n",
       "    <tr style=\"text-align: right;\">\n",
       "      <th></th>\n",
       "      <th>tweet</th>\n",
       "      <th>dialect</th>\n",
       "    </tr>\n",
       "  </thead>\n",
       "  <tbody>\n",
       "    <tr>\n",
       "      <th>0</th>\n",
       "      <td>اليمينالدستوريه بالنسبه للفتاه الفلسطينيه اللي...</td>\n",
       "      <td>EG</td>\n",
       "    </tr>\n",
       "    <tr>\n",
       "      <th>1</th>\n",
       "      <td>جتكم نيلهده بيدافع مرسي يرحمه اللي بغباءكم ودي...</td>\n",
       "      <td>EG</td>\n",
       "    </tr>\n",
       "    <tr>\n",
       "      <th>2</th>\n",
       "      <td>تسلمي اختي اهوه قاعد مصدع الناس</td>\n",
       "      <td>EG</td>\n",
       "    </tr>\n",
       "    <tr>\n",
       "      <th>3</th>\n",
       "      <td>وكلنها ولعه اكبر سوق للكتب تقريبا كتب اللبناني...</td>\n",
       "      <td>EG</td>\n",
       "    </tr>\n",
       "    <tr>\n",
       "      <th>4</th>\n",
       "      <td>يخرب بيوت الخرفان</td>\n",
       "      <td>EG</td>\n",
       "    </tr>\n",
       "  </tbody>\n",
       "</table>\n",
       "</div>"
      ],
      "text/plain": [
       "                                               tweet dialect\n",
       "0  اليمينالدستوريه بالنسبه للفتاه الفلسطينيه اللي...      EG\n",
       "1  جتكم نيلهده بيدافع مرسي يرحمه اللي بغباءكم ودي...      EG\n",
       "2                    تسلمي اختي اهوه قاعد مصدع الناس      EG\n",
       "3  وكلنها ولعه اكبر سوق للكتب تقريبا كتب اللبناني...      EG\n",
       "4                                  يخرب بيوت الخرفان      EG"
      ]
     },
     "execution_count": 59,
     "metadata": {},
     "output_type": "execute_result"
    }
   ],
   "source": [
    "under_sampled_data.head()"
   ]
  },
  {
   "attachments": {},
   "cell_type": "markdown",
   "id": "56498270",
   "metadata": {},
   "source": [
    "### Text stemming\n",
    "I opted out from using the stemmer in this task because it can lose important feautres releated to dialects"
   ]
  },
  {
   "attachments": {},
   "cell_type": "markdown",
   "id": "98c147cf",
   "metadata": {},
   "source": [
    "from snowballstemmer import stemmer\n",
    "\n",
    "ar_stemmer = stemmer(\"arabic\")\n",
    "\n",
    "def stemmer(tweet):\n",
    "    newtweet = ar_stemmer.stemWord(tweet)\n",
    "    return newtweet\n",
    "\n",
    "under_sampled_data['tweet'] = under_sampled_data['tweet'].apply(stemmer)\n",
    "under_sampled_data.head()"
   ]
  },
  {
   "attachments": {},
   "cell_type": "markdown",
   "id": "fd5893a5",
   "metadata": {},
   "source": [
    "### Dialects labels encoding "
   ]
  },
  {
   "cell_type": "code",
   "execution_count": 60,
   "id": "106cbafd",
   "metadata": {},
   "outputs": [],
   "source": [
    "from sklearn.preprocessing import LabelEncoder\n",
    "\n",
    "le = LabelEncoder()\n",
    "\n",
    "under_sampled_data['dialect'] = le.fit_transform(under_sampled_data['dialect'])"
   ]
  },
  {
   "cell_type": "code",
   "execution_count": 61,
   "id": "f5eae0f1",
   "metadata": {
    "scrolled": true
   },
   "outputs": [
    {
     "data": {
      "text/html": [
       "<div>\n",
       "<style scoped>\n",
       "    .dataframe tbody tr th:only-of-type {\n",
       "        vertical-align: middle;\n",
       "    }\n",
       "\n",
       "    .dataframe tbody tr th {\n",
       "        vertical-align: top;\n",
       "    }\n",
       "\n",
       "    .dataframe thead th {\n",
       "        text-align: right;\n",
       "    }\n",
       "</style>\n",
       "<table border=\"1\" class=\"dataframe\">\n",
       "  <thead>\n",
       "    <tr style=\"text-align: right;\">\n",
       "      <th></th>\n",
       "      <th>tweet</th>\n",
       "      <th>dialect</th>\n",
       "    </tr>\n",
       "  </thead>\n",
       "  <tbody>\n",
       "    <tr>\n",
       "      <th>0</th>\n",
       "      <td>اليمينالدستوريه بالنسبه للفتاه الفلسطينيه اللي...</td>\n",
       "      <td>0</td>\n",
       "    </tr>\n",
       "  </tbody>\n",
       "</table>\n",
       "</div>"
      ],
      "text/plain": [
       "                                               tweet  dialect\n",
       "0  اليمينالدستوريه بالنسبه للفتاه الفلسطينيه اللي...        0"
      ]
     },
     "execution_count": 61,
     "metadata": {},
     "output_type": "execute_result"
    }
   ],
   "source": [
    "under_sampled_data.head(1)"
   ]
  },
  {
   "attachments": {},
   "cell_type": "markdown",
   "id": "1a9d9d4e",
   "metadata": {},
   "source": [
    "## Data split\n",
    "Data spliting will occur before the utilisation of bag of words method to ensure that no data leak happens."
   ]
  },
  {
   "cell_type": "code",
   "execution_count": 62,
   "id": "ea9697fa",
   "metadata": {},
   "outputs": [],
   "source": [
    "tweets = under_sampled_data['tweet']\n",
    "dialect_target = under_sampled_data['dialect']"
   ]
  },
  {
   "cell_type": "code",
   "execution_count": 63,
   "id": "cd7caef9",
   "metadata": {},
   "outputs": [],
   "source": [
    "from sklearn.model_selection import train_test_split\n",
    "x_train, x_test, y_train, y_test = train_test_split(tweets, dialect_target, test_size = 0.1, random_state = 0)"
   ]
  },
  {
   "attachments": {},
   "cell_type": "markdown",
   "id": "2618bcce",
   "metadata": {},
   "source": [
    "### Vectorize data"
   ]
  },
  {
   "cell_type": "code",
   "execution_count": 64,
   "id": "5ed3e56d",
   "metadata": {},
   "outputs": [],
   "source": [
    "from sklearn.feature_extraction.text import TfidfVectorizer\n",
    "tfidf_vectorizer = TfidfVectorizer(max_features = 100)\n",
    "# Transform data\n",
    "X_train_tfidf = tfidf_vectorizer.fit_transform(x_train).toarray()\n"
   ]
  },
  {
   "cell_type": "code",
   "execution_count": 65,
   "id": "92516598",
   "metadata": {},
   "outputs": [
    {
     "data": {
      "text/plain": [
       "array(['احلي', 'احنا', 'اخر', 'اصلا', 'اكتر', 'اكيد', 'ال', 'الخير',\n",
       "       'الدنيا', 'الشعب', 'العالم', 'الكلام', 'اللي', 'الموضوع', 'الناس',\n",
       "       'الواحد', 'انت', 'انتي', 'انك', 'انو', 'اني', 'ايه', 'بالله',\n",
       "       'بدون', 'بقي', 'بكل', 'تاني', 'حاجه', 'حتي', 'حد', 'حدا', 'حق',\n",
       "       'حلوه', 'خلاص', 'دا', 'ده', 'دول', 'دي', 'ربنا', 'ربي', 'رح',\n",
       "       'زمان', 'زي', 'سنه', 'شاء', 'شخص', 'شنو', 'شو', 'شويه', 'شي', 'صح',\n",
       "       'طبعا', 'طول', 'عشان', 'علشان', 'علينا', 'عليهم', 'عم', 'عندك',\n",
       "       'عندنا', 'عنده', 'عندي', 'فعلا', 'فيك', 'فيهم', 'قلبي', 'كتير',\n",
       "       'كده', 'كلام', 'كله', 'كلها', 'كمان', 'كنت', 'لازم', 'لان', 'لانه',\n",
       "       'لسه', 'ليش', 'ليه', 'مره', 'ممكن', 'منك', 'منهم', 'مو', 'مين',\n",
       "       'ناس', 'نفسي', 'هيك', 'والله', 'واللي', 'وانا', 'وانت', 'وحده',\n",
       "       'وش', 'وقت', 'وكل', 'وين', 'يارب', 'يعني', 'يقول'], dtype=object)"
      ]
     },
     "execution_count": 65,
     "metadata": {},
     "output_type": "execute_result"
    }
   ],
   "source": [
    "tfidf_vectorizer.get_feature_names_out()"
   ]
  },
  {
   "cell_type": "code",
   "execution_count": 66,
   "id": "0bf53005",
   "metadata": {},
   "outputs": [
    {
     "data": {
      "text/plain": [
       "100"
      ]
     },
     "execution_count": 66,
     "metadata": {},
     "output_type": "execute_result"
    }
   ],
   "source": [
    "X_train_tfidf.shape[1]"
   ]
  },
  {
   "attachments": {},
   "cell_type": "markdown",
   "id": "5f257698",
   "metadata": {},
   "source": [
    "### Vectorize test data"
   ]
  },
  {
   "cell_type": "code",
   "execution_count": 67,
   "id": "c96ef4c1",
   "metadata": {},
   "outputs": [],
   "source": [
    "X_test_tfidf = tfidf_vectorizer.transform(x_test).toarray()"
   ]
  }
 ],
 "metadata": {
  "kernelspec": {
   "display_name": "Python 3",
   "language": "python",
   "name": "python3"
  },
  "language_info": {
   "codemirror_mode": {
    "name": "ipython",
    "version": 3
   },
   "file_extension": ".py",
   "mimetype": "text/x-python",
   "name": "python",
   "nbconvert_exporter": "python",
   "pygments_lexer": "ipython3",
   "version": "3.9.16"
  }
 },
 "nbformat": 4,
 "nbformat_minor": 5
}
